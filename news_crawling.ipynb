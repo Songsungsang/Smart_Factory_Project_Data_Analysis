{
 "cells": [
  {
   "cell_type": "code",
   "execution_count": 63,
   "metadata": {},
   "outputs": [],
   "source": [
    "#네이버 뉴스의 기사들을 크롤링하여 엑셀로 보관하는 코드\n",
    "from selenium import webdriver\n",
    "from selenium.webdriver.chrome.options import Options\n",
    "from selenium.webdriver.common.by import By\n",
    "from selenium.webdriver.common.keys import Keys\n",
    "\n",
    "import openpyxl\n",
    "from openpyxl import Workbook\n",
    "\n",
    "import time\n",
    "\n",
    "# options 객체를 만들지 않으면 실행시 브라우저 창이 꺼짐\n",
    "options = Options()\n",
    "options.add_argument(\"--start-maximized\") #창크기 최대화\n",
    "options.add_experimental_option('detach', True)\n",
    "\n",
    "driver = webdriver.Chrome(options=options) # 크롬을 웹 브라우저로 선택\n",
    "\n",
    "url = \"https://news.naver.com/\" # 뉴스사이트 선택\n",
    "driver.get(url) # 브라우저 열기"
   ]
  },
  {
   "cell_type": "code",
   "execution_count": 64,
   "metadata": {},
   "outputs": [],
   "source": [
    "button = driver.find_element(By.CLASS_NAME, \"Nicon_search\")\n",
    "button.click() # 검색 버튼 클릭 후 밑에서 검색어 입력\n",
    "time.sleep(2) # 여유시간 부여\n",
    "driver.find_element(By.CLASS_NAME, \"_search_input\").send_keys(\"해파리 피해\") # 뉴스 검색에 해파리 입력\n",
    "time.sleep(2)\n",
    "driver.find_element(By.CLASS_NAME, \"_search_input\").send_keys(Keys.ENTER) # 검색창에 엔터키 입력해서 검색. 새로운 창 생성\n",
    "time.sleep(3)\n",
    "windows = driver.window_handles # 창들의 핸들 가져오기\n",
    "driver.switch_to.window(windows[-1]) # 가장 마지막 창으로 이동"
   ]
  },
  {
   "cell_type": "code",
   "execution_count": 65,
   "metadata": {},
   "outputs": [],
   "source": [
    "current_height = driver.execute_script(\"return window.scrollY\") # 현재 Y축 높이\n",
    "\n",
    "count = 0\n",
    "\n",
    "while True: # 한 페이지 분량 내리기\n",
    "    driver.find_element(By.CSS_SELECTOR, 'body').send_keys(Keys.END)\n",
    "    time.sleep(1)\n",
    "    \n",
    "    scrolled_height = driver.execute_script(\"return window.scrollY\")\n",
    "    \n",
    "    if (current_height == scrolled_height):\n",
    "        break\n",
    "    \n",
    "    if count > 1:\n",
    "        break\n",
    "    count+=1\n",
    "    \n",
    "    current_height = scrolled_height"
   ]
  },
  {
   "cell_type": "code",
   "execution_count": 59,
   "metadata": {},
   "outputs": [
    {
     "name": "stdout",
     "output_type": "stream",
     "text": [
      "제목: [기후 격변] ⑨ 신음하는 금수강산…\"생존 문제로 인식하고 대비해야\"(끝)\n",
      "링크: https://www.yna.co.kr/view/AKR20241220021000062?input=1195m\n",
      "제목: “이상고온 피해 막자”…‘고수온 어종’ 양식기술 개발\n",
      "링크: https://news.kbs.co.kr/news/pc/view/view.do?ncd=8120023&ref=A\n",
      "제목: [뉴스 플러스+] 연근해 어종 씨 마르는데 해파리만 기승 해수온 상승에 사계절 피해주나 불안\n",
      "링크: http://www.kado.net/news/articleView.html?idxno=1276481\n",
      "제목: 해파리와 유해 해조류의 자원화 개발...유망기업 ㈜포엠\n",
      "링크: http://www.netongs.com/news/articleView.html?idxno=322489\n",
      "제목: “강원도, 동해안 해파리 피해 신속하게 대응해야”\n",
      "링크: https://news.kbs.co.kr/news/pc/view/view.do?ncd=8101736&ref=A\n",
      "제목: 서석영 경북도의원, 동해 해파리 피해예방 위해 관련 조례안 대표발의\n",
      "링크: http://www.newsprime.co.kr/news/article.html?no=658901\n",
      "제목: 서석영 경북도의원, 동해 해파리 피해예방 조례안 대표발의\n",
      "링크: https://www.wikitree.co.kr/articles/992044\n",
      "제목: 문금주 의원, 전남 역대급 해파리 출몰 '피해구제 지원금' 조기 소진\n",
      "링크: http://www.namdonews.com/news/articleView.html?idxno=793157\n",
      "제목: [경북도의회] APEC 정상회의 준비상황 점검·저출생 극복 현장 토론회·서석영 의원 '동해 해파리 피해예방 관련 조례안' 발의·황재철 의원 '농어촌진흥기금 설치 조례 일부개정안' 발의\n",
      "링크: https://www.newsworks.co.kr/news/articleView.html?idxno=769532\n",
      "제목: 데]서석영 도의원, 해파리 피해 예방 및 관리 조\n",
      "링크: http://www.phmbc.co.kr/www/news/desk_news?idx=193371&mode=view\n",
      "제목: 데]서석영 도의원, 해파리 피해 예방 및 관리 조\n",
      "링크: http://www.phmbc.co.kr/www/news/desk_news?idx=193371&mode=view\n",
      "제목: 해양수산부, 해파리 주의단계 특보 148일 만에 전면 해제\n",
      "링크: https://www.newscammp.co.kr/news/articleView.html?idxno=3014\n",
      "제목: 해수부, 전국 보름달물·노무라입깃해파리 주의단계특보 전면 해제\n",
      "링크: https://www.ajunews.com/view/20241021160009273\n",
      "제목: 오상도 경주시의원, ‘해파리 피해와 대책 수립’ 필요성 지적\n",
      "링크: https://www.nspna.com/news/?mode=view&newsid=714805\n",
      "제목: 울진군, 해파리 피해 최소화 … 긴급 예산 6천만원 투입\n",
      "링크: https://www.pressian.com/pages/articles/2024081616390616757?utm_source=naver&utm_medium=search\n",
      "제목: 해파리 .쏘임 사고 전년 대비 5.6배 증가…제거 예산 이미 소진\n",
      "링크: https://www.newsis.com/view/NISX20241004_0002908251\n",
      "제목: 올여름 울산 해파리 쏘임사고 전년대비 46배↑\n",
      "링크: https://www.ulsanpress.net/news/articleView.html?idxno=536723\n",
      "제목: 제주 '해파리 인적 피해' 전국 최대\n",
      "링크: http://www.samdailbo.com/news/articleView.html?idxno=231430\n",
      "제목: [기획] 해파리 피해 확산 속 지자체 대응 '도마 위'\n",
      "링크: http://www.m-i.kr/news/articleView.html?idxno=1148278\n",
      "제목: '홍현희♥' 제이쓴, 해파리 피해 당해...빨갛게 부은 손목\n",
      "링크: https://www.tvreport.co.kr/breaking/article/835411/\n",
      "제목: “‘바다의 불청객’ 해파리 인적 피해, 5년간 1만건 이상 발생”\n",
      "링크: https://www.busan.com/view/busan/view.php?code=2024080708232317360\n",
      "제목: 경기바다 고수온에 따른 '해파리 피해' 각별한 주의\n",
      "링크: https://view.asiae.co.kr/article/2024080807143329792\n",
      "제목: \"해파리 피해 줄이자\"…김종훈 울산 동구청장 현장점검\n",
      "링크: https://www.newsis.com/view/NISX20240806_0002839890\n",
      "제목: 포항시, 해파리 피해 최소화에 총력전…휴가철 주의 당부\n",
      "링크: https://www.gukjenews.com/news/articleView.html?idxno=3049601\n",
      "제목: 포항시, 해파리 피해 최소화를 위한 수매 사업 시행\n",
      "링크: https://www.ajunews.com/view/20240719045540926\n",
      "제목: 포항시, 해파리 피해 최소화를 위한 수매사업 시행\n",
      "링크: https://www.ekn.kr/web/view.php?key=20240718020119035\n",
      "제목: 속초시, 어구·쏘임 피해 해파리 퇴치 본격화\n",
      "링크: https://www.kwnews.co.kr/page/view/2024081909262433502\n",
      "제목: 강원소방, 동해안 일대 해파리 피해 주의 당부\n",
      "링크: https://www.nspna.com/news/?mode=view&newsid=711963\n",
      "제목: 유망기업 ㈜포엠, 해파리와 유해 해조류 자원화 개발에 기여\n",
      "링크: http://www.netongs.com/news/articleView.html?idxno=321138\n",
      "제목: 강원도의회 \"늘어난 해파리에 어민 조업 차질 구제책 마련해야”\n",
      "링크: https://www.kwnews.co.kr/page/view/2024090316540325692\n",
      "제목: [기후 격변] ① '쏘이고, 찢기고'…동해안 최북단까지 습격한 해파리\n",
      "링크: https://www.yna.co.kr/view/AKR20240830071000062?input=1195m\n",
      "제목: 군산시, 해파리 구제 작업 추진 어업인 피해예방\n",
      "링크: http://www.shinailbo.co.kr/news/articleView.html?idxno=1892472\n",
      "제목: 울주군 진하해수욕장, 올여름 85만명 찾아…냉수대·독성해파리 여파 감소\n",
      "링크: https://www.news1.kr/local/ulsan/5528320\n",
      "제목: 독성 해파리 유입 역대 최대…해수욕장·어가 '몸살'\n",
      "링크: http://www.fntoday.co.kr/news/articleView.html?idxno=330636\n",
      "제목: 영덕군 7개 해수욕장 일제 폐장...15만여 명 인파 몰려\n",
      "링크: http://www.kbsm.net/news/view.php?idx=444064\n",
      "제목: “해파리떼 피해 막아라” 전남도, 예찰·구제 총력 대응\n",
      "링크: http://www.kjdaily.com/article.php?aid=1718535498633129002\n",
      "제목: 이상근 고성군수 어업인 피해 없도록 해파리 구제 총력 지시\n",
      "링크: http://www.gndomin.com/news/articleView.html?idxno=396306\n",
      "제목: 전남도, ‘특보 발령’ 해파리 피해 방지 총력\n",
      "링크: http://www.kjdaily.com/article.php?aid=1717934063632500002\n",
      "제목: 전남도, 해파리 피해 방지 총력\n",
      "링크: http://www.breaknews.com/1036852\n",
      "제목: \"보름달물해파리 주의\"…전남도, 피해 방지 총력\n",
      "링크: https://www.news1.kr/articles/5440256\n"
     ]
    }
   ],
   "source": [
    "news_list = driver.find_elements(By.CLASS_NAME, \"news_tit\")\n",
    "\n",
    "for news in news_list:\n",
    "    title = news.get_attribute(\"title\") # 'title' 속성 가져오기\n",
    "    print(\"제목:\", title)\n",
    "\n",
    "    href = news.get_attribute(\"href\") # 'href' 속성 가져오기\n",
    "    print(\"링크:\", href)"
   ]
  },
  {
   "cell_type": "code",
   "execution_count": 67,
   "metadata": {},
   "outputs": [
    {
     "name": "stdout",
     "output_type": "stream",
     "text": [
      "[<selenium.webdriver.remote.webelement.WebElement (session=\"14f4f6e56ea5c9ea239a10ba2571d652\", element=\"f.37E37B276B6378BFF4BF07FA99B2027E.d.FDD8A7C281EAF27FF0B815568BDEE5D4.e.548\")>, <selenium.webdriver.remote.webelement.WebElement (session=\"14f4f6e56ea5c9ea239a10ba2571d652\", element=\"f.37E37B276B6378BFF4BF07FA99B2027E.d.FDD8A7C281EAF27FF0B815568BDEE5D4.e.575\")>, <selenium.webdriver.remote.webelement.WebElement (session=\"14f4f6e56ea5c9ea239a10ba2571d652\", element=\"f.37E37B276B6378BFF4BF07FA99B2027E.d.FDD8A7C281EAF27FF0B815568BDEE5D4.e.604\")>, <selenium.webdriver.remote.webelement.WebElement (session=\"14f4f6e56ea5c9ea239a10ba2571d652\", element=\"f.37E37B276B6378BFF4BF07FA99B2027E.d.FDD8A7C281EAF27FF0B815568BDEE5D4.e.628\")>, <selenium.webdriver.remote.webelement.WebElement (session=\"14f4f6e56ea5c9ea239a10ba2571d652\", element=\"f.37E37B276B6378BFF4BF07FA99B2027E.d.FDD8A7C281EAF27FF0B815568BDEE5D4.e.654\")>, <selenium.webdriver.remote.webelement.WebElement (session=\"14f4f6e56ea5c9ea239a10ba2571d652\", element=\"f.37E37B276B6378BFF4BF07FA99B2027E.d.FDD8A7C281EAF27FF0B815568BDEE5D4.e.687\")>, <selenium.webdriver.remote.webelement.WebElement (session=\"14f4f6e56ea5c9ea239a10ba2571d652\", element=\"f.37E37B276B6378BFF4BF07FA99B2027E.d.FDD8A7C281EAF27FF0B815568BDEE5D4.e.729\")>, <selenium.webdriver.remote.webelement.WebElement (session=\"14f4f6e56ea5c9ea239a10ba2571d652\", element=\"f.37E37B276B6378BFF4BF07FA99B2027E.d.FDD8A7C281EAF27FF0B815568BDEE5D4.e.784\")>, <selenium.webdriver.remote.webelement.WebElement (session=\"14f4f6e56ea5c9ea239a10ba2571d652\", element=\"f.37E37B276B6378BFF4BF07FA99B2027E.d.FDD8A7C281EAF27FF0B815568BDEE5D4.e.817\")>, <selenium.webdriver.remote.webelement.WebElement (session=\"14f4f6e56ea5c9ea239a10ba2571d652\", element=\"f.37E37B276B6378BFF4BF07FA99B2027E.d.FDD8A7C281EAF27FF0B815568BDEE5D4.e.838\")>, <selenium.webdriver.remote.webelement.WebElement (session=\"14f4f6e56ea5c9ea239a10ba2571d652\", element=\"f.37E37B276B6378BFF4BF07FA99B2027E.d.FDD8A7C281EAF27FF0B815568BDEE5D4.e.3230\")>, <selenium.webdriver.remote.webelement.WebElement (session=\"14f4f6e56ea5c9ea239a10ba2571d652\", element=\"f.37E37B276B6378BFF4BF07FA99B2027E.d.FDD8A7C281EAF27FF0B815568BDEE5D4.e.3254\")>, <selenium.webdriver.remote.webelement.WebElement (session=\"14f4f6e56ea5c9ea239a10ba2571d652\", element=\"f.37E37B276B6378BFF4BF07FA99B2027E.d.FDD8A7C281EAF27FF0B815568BDEE5D4.e.3279\")>, <selenium.webdriver.remote.webelement.WebElement (session=\"14f4f6e56ea5c9ea239a10ba2571d652\", element=\"f.37E37B276B6378BFF4BF07FA99B2027E.d.FDD8A7C281EAF27FF0B815568BDEE5D4.e.3318\")>, <selenium.webdriver.remote.webelement.WebElement (session=\"14f4f6e56ea5c9ea239a10ba2571d652\", element=\"f.37E37B276B6378BFF4BF07FA99B2027E.d.FDD8A7C281EAF27FF0B815568BDEE5D4.e.3373\")>, <selenium.webdriver.remote.webelement.WebElement (session=\"14f4f6e56ea5c9ea239a10ba2571d652\", element=\"f.37E37B276B6378BFF4BF07FA99B2027E.d.FDD8A7C281EAF27FF0B815568BDEE5D4.e.3404\")>, <selenium.webdriver.remote.webelement.WebElement (session=\"14f4f6e56ea5c9ea239a10ba2571d652\", element=\"f.37E37B276B6378BFF4BF07FA99B2027E.d.FDD8A7C281EAF27FF0B815568BDEE5D4.e.3428\")>, <selenium.webdriver.remote.webelement.WebElement (session=\"14f4f6e56ea5c9ea239a10ba2571d652\", element=\"f.37E37B276B6378BFF4BF07FA99B2027E.d.FDD8A7C281EAF27FF0B815568BDEE5D4.e.3450\")>, <selenium.webdriver.remote.webelement.WebElement (session=\"14f4f6e56ea5c9ea239a10ba2571d652\", element=\"f.37E37B276B6378BFF4BF07FA99B2027E.d.FDD8A7C281EAF27FF0B815568BDEE5D4.e.3491\")>, <selenium.webdriver.remote.webelement.WebElement (session=\"14f4f6e56ea5c9ea239a10ba2571d652\", element=\"f.37E37B276B6378BFF4BF07FA99B2027E.d.FDD8A7C281EAF27FF0B815568BDEE5D4.e.3531\")>, <selenium.webdriver.remote.webelement.WebElement (session=\"14f4f6e56ea5c9ea239a10ba2571d652\", element=\"f.37E37B276B6378BFF4BF07FA99B2027E.d.FDD8A7C281EAF27FF0B815568BDEE5D4.e.3916\")>, <selenium.webdriver.remote.webelement.WebElement (session=\"14f4f6e56ea5c9ea239a10ba2571d652\", element=\"f.37E37B276B6378BFF4BF07FA99B2027E.d.FDD8A7C281EAF27FF0B815568BDEE5D4.e.3975\")>, <selenium.webdriver.remote.webelement.WebElement (session=\"14f4f6e56ea5c9ea239a10ba2571d652\", element=\"f.37E37B276B6378BFF4BF07FA99B2027E.d.FDD8A7C281EAF27FF0B815568BDEE5D4.e.4004\")>, <selenium.webdriver.remote.webelement.WebElement (session=\"14f4f6e56ea5c9ea239a10ba2571d652\", element=\"f.37E37B276B6378BFF4BF07FA99B2027E.d.FDD8A7C281EAF27FF0B815568BDEE5D4.e.4055\")>, <selenium.webdriver.remote.webelement.WebElement (session=\"14f4f6e56ea5c9ea239a10ba2571d652\", element=\"f.37E37B276B6378BFF4BF07FA99B2027E.d.FDD8A7C281EAF27FF0B815568BDEE5D4.e.4098\")>, <selenium.webdriver.remote.webelement.WebElement (session=\"14f4f6e56ea5c9ea239a10ba2571d652\", element=\"f.37E37B276B6378BFF4BF07FA99B2027E.d.FDD8A7C281EAF27FF0B815568BDEE5D4.e.4127\")>, <selenium.webdriver.remote.webelement.WebElement (session=\"14f4f6e56ea5c9ea239a10ba2571d652\", element=\"f.37E37B276B6378BFF4BF07FA99B2027E.d.FDD8A7C281EAF27FF0B815568BDEE5D4.e.4171\")>, <selenium.webdriver.remote.webelement.WebElement (session=\"14f4f6e56ea5c9ea239a10ba2571d652\", element=\"f.37E37B276B6378BFF4BF07FA99B2027E.d.FDD8A7C281EAF27FF0B815568BDEE5D4.e.4202\")>, <selenium.webdriver.remote.webelement.WebElement (session=\"14f4f6e56ea5c9ea239a10ba2571d652\", element=\"f.37E37B276B6378BFF4BF07FA99B2027E.d.FDD8A7C281EAF27FF0B815568BDEE5D4.e.4228\")>, <selenium.webdriver.remote.webelement.WebElement (session=\"14f4f6e56ea5c9ea239a10ba2571d652\", element=\"f.37E37B276B6378BFF4BF07FA99B2027E.d.FDD8A7C281EAF27FF0B815568BDEE5D4.e.4255\")>, <selenium.webdriver.remote.webelement.WebElement (session=\"14f4f6e56ea5c9ea239a10ba2571d652\", element=\"f.37E37B276B6378BFF4BF07FA99B2027E.d.FDD8A7C281EAF27FF0B815568BDEE5D4.e.4658\")>, <selenium.webdriver.remote.webelement.WebElement (session=\"14f4f6e56ea5c9ea239a10ba2571d652\", element=\"f.37E37B276B6378BFF4BF07FA99B2027E.d.FDD8A7C281EAF27FF0B815568BDEE5D4.e.4680\")>, <selenium.webdriver.remote.webelement.WebElement (session=\"14f4f6e56ea5c9ea239a10ba2571d652\", element=\"f.37E37B276B6378BFF4BF07FA99B2027E.d.FDD8A7C281EAF27FF0B815568BDEE5D4.e.4720\")>, <selenium.webdriver.remote.webelement.WebElement (session=\"14f4f6e56ea5c9ea239a10ba2571d652\", element=\"f.37E37B276B6378BFF4BF07FA99B2027E.d.FDD8A7C281EAF27FF0B815568BDEE5D4.e.4744\")>, <selenium.webdriver.remote.webelement.WebElement (session=\"14f4f6e56ea5c9ea239a10ba2571d652\", element=\"f.37E37B276B6378BFF4BF07FA99B2027E.d.FDD8A7C281EAF27FF0B815568BDEE5D4.e.4768\")>, <selenium.webdriver.remote.webelement.WebElement (session=\"14f4f6e56ea5c9ea239a10ba2571d652\", element=\"f.37E37B276B6378BFF4BF07FA99B2027E.d.FDD8A7C281EAF27FF0B815568BDEE5D4.e.4791\")>, <selenium.webdriver.remote.webelement.WebElement (session=\"14f4f6e56ea5c9ea239a10ba2571d652\", element=\"f.37E37B276B6378BFF4BF07FA99B2027E.d.FDD8A7C281EAF27FF0B815568BDEE5D4.e.4816\")>, <selenium.webdriver.remote.webelement.WebElement (session=\"14f4f6e56ea5c9ea239a10ba2571d652\", element=\"f.37E37B276B6378BFF4BF07FA99B2027E.d.FDD8A7C281EAF27FF0B815568BDEE5D4.e.4875\")>, <selenium.webdriver.remote.webelement.WebElement (session=\"14f4f6e56ea5c9ea239a10ba2571d652\", element=\"f.37E37B276B6378BFF4BF07FA99B2027E.d.FDD8A7C281EAF27FF0B815568BDEE5D4.e.4907\")>, <selenium.webdriver.remote.webelement.WebElement (session=\"14f4f6e56ea5c9ea239a10ba2571d652\", element=\"f.37E37B276B6378BFF4BF07FA99B2027E.d.FDD8A7C281EAF27FF0B815568BDEE5D4.e.4932\")>]\n"
     ]
    }
   ],
   "source": [
    "wb = Workbook()\n",
    "\n",
    "# 워크시트 만들기\n",
    "ws = wb.active\n",
    "ws.title = '해파리피해'\n",
    "\n",
    "# 데이터 추가하기\n",
    "ws.append(['뉴스기사', 'url'])\n",
    "\n",
    "# 엑셀 저장하기\n",
    "filePath = 'data/해파리피해기사.xlsx'\n",
    "\n",
    "news_list = driver.find_elements(By.CLASS_NAME, \"news_tit\") # 뉴스제목을 클래스로 가진 a 요소들 전부 가져오기\n",
    "print(news_list)\n",
    "for news in news_list:\n",
    "    title = news.get_attribute(\"title\") # 'title' 속성 가져오기\n",
    "    href = news.get_attribute(\"href\") # 'href' 속성 가져오기\n",
    "    ws.append([title, href])\n",
    "\n",
    "wb.save(filePath)"
   ]
  },
  {
   "cell_type": "code",
   "execution_count": null,
   "metadata": {},
   "outputs": [],
   "source": [
    "<input type=\"search\" name=\"query\" title=\"검색어 입력\" class=\"u_it _search_input\" placeholder=\"뉴스 검색\" maxlength=\"255\" autocomplete=\"off\">"
   ]
  }
 ],
 "metadata": {
  "kernelspec": {
   "display_name": "base",
   "language": "python",
   "name": "python3"
  },
  "language_info": {
   "codemirror_mode": {
    "name": "ipython",
    "version": 3
   },
   "file_extension": ".py",
   "mimetype": "text/x-python",
   "name": "python",
   "nbconvert_exporter": "python",
   "pygments_lexer": "ipython3",
   "version": "3.12.3"
  }
 },
 "nbformat": 4,
 "nbformat_minor": 2
}
